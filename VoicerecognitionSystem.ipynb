{
 "cells": [
  {
   "cell_type": "code",
   "execution_count": 1,
   "metadata": {},
   "outputs": [
    {
     "name": "stdout",
     "output_type": "stream",
     "text": [
      "you said : \n",
      "hello Subhan Hussain how are you\n"
     ]
    }
   ],
   "source": [
    "import speech_recognition as sr              #impot library\n",
    "\n",
    "r=sr.Recognizer()                            #Initilize voice recognizer method\n",
    "\n",
    "with sr.AudioFile('subhan.wav') as source:   #reading audio file from pc already recorded as source\n",
    "    audio_txt=r.listen(source)               #listening the audio file and store in variable\n",
    "    \n",
    "try:                                         #Exception Handeling if Api not work\n",
    "    text=r.recognize_google(audio_txt)       # Using google speech recognition\n",
    "    print(\"you said : \")\n",
    "    print(text)\n",
    "except:\n",
    "    print(\"Sorry ! try again....\")\n"
   ]
  },
  {
   "cell_type": "code",
   "execution_count": null,
   "metadata": {},
   "outputs": [],
   "source": []
  }
 ],
 "metadata": {
  "kernelspec": {
   "display_name": "Python 3",
   "language": "python",
   "name": "python3"
  },
  "language_info": {
   "codemirror_mode": {
    "name": "ipython",
    "version": 3
   },
   "file_extension": ".py",
   "mimetype": "text/x-python",
   "name": "python",
   "nbconvert_exporter": "python",
   "pygments_lexer": "ipython3",
   "version": "3.7.3"
  }
 },
 "nbformat": 4,
 "nbformat_minor": 2
}
